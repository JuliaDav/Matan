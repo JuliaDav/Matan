{
 "cells": [
  {
   "cell_type": "code",
   "execution_count": 2,
   "metadata": {},
   "outputs": [],
   "source": [
    "a = {1,2,3}\n",
    "b = {1,3,5}\n",
    "c = {2,4}"
   ]
  },
  {
   "cell_type": "markdown",
   "metadata": {},
   "source": [
    "### Пересечение:"
   ]
  },
  {
   "cell_type": "code",
   "execution_count": 10,
   "metadata": {},
   "outputs": [
    {
     "name": "stdout",
     "output_type": "stream",
     "text": [
      "Пересечения множеств ab = {1, 3}, bc = set(), ac = {2}\n"
     ]
    }
   ],
   "source": [
    "ab = a.intersection(b)\n",
    "bc = b.intersection(c)\n",
    "ac = a.intersection(c)\n",
    "print(f'Пересечения множеств ab = {ab}, bc = {bc}, ac = {ac}')"
   ]
  },
  {
   "cell_type": "markdown",
   "metadata": {},
   "source": [
    "### Объединение:"
   ]
  },
  {
   "cell_type": "code",
   "execution_count": 12,
   "metadata": {},
   "outputs": [
    {
     "name": "stdout",
     "output_type": "stream",
     "text": [
      "Объединение множеств ab = {1, 2, 3, 5}, bc = {1, 2, 3, 4, 5}, ac = {1, 2, 3, 4}\n"
     ]
    }
   ],
   "source": [
    "ab = a | b\n",
    "bc = b | c\n",
    "ac = a | c\n",
    "print(f'Объединение множеств ab = {ab}, bc = {bc}, ac = {ac}')"
   ]
  },
  {
   "cell_type": "markdown",
   "metadata": {},
   "source": [
    "### Разность:"
   ]
  },
  {
   "cell_type": "code",
   "execution_count": 14,
   "metadata": {},
   "outputs": [
    {
     "name": "stdout",
     "output_type": "stream",
     "text": [
      "Разность множеств ab = {2}, bc = {1, 3, 5}, ac = {1, 3}\n"
     ]
    }
   ],
   "source": [
    "ab = a - b\n",
    "bc = b - c\n",
    "ac = a - c\n",
    "print(f'Разность множеств ab = {ab}, bc = {bc}, ac = {ac}')"
   ]
  },
  {
   "cell_type": "markdown",
   "metadata": {},
   "source": [
    "### Симметрическая разность:"
   ]
  },
  {
   "cell_type": "code",
   "execution_count": 15,
   "metadata": {},
   "outputs": [
    {
     "name": "stdout",
     "output_type": "stream",
     "text": [
      "Симметрическая разность множеств ab = {2, 5}, bc = {1, 2, 3, 4, 5}, ac = {1, 3, 4}\n"
     ]
    }
   ],
   "source": [
    "ab = a ^ b\n",
    "bc = b ^ c\n",
    "ac = a ^ c\n",
    "print(f'Симметрическая разность множеств ab = {ab}, bc = {bc}, ac = {ac}')"
   ]
  },
  {
   "cell_type": "code",
   "execution_count": null,
   "metadata": {},
   "outputs": [],
   "source": []
  }
 ],
 "metadata": {
  "kernelspec": {
   "display_name": "Python 3",
   "language": "python",
   "name": "python3"
  },
  "language_info": {
   "codemirror_mode": {
    "name": "ipython",
    "version": 3
   },
   "file_extension": ".py",
   "mimetype": "text/x-python",
   "name": "python",
   "nbconvert_exporter": "python",
   "pygments_lexer": "ipython3",
   "version": "3.7.3"
  }
 },
 "nbformat": 4,
 "nbformat_minor": 2
}
